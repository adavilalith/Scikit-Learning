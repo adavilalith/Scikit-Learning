{
 "cells": [
  {
   "cell_type": "code",
   "execution_count": 1,
   "id": "e691672c-7a68-474d-96f0-3ce90c46812d",
   "metadata": {},
   "outputs": [],
   "source": [
    "import numpy as np\n",
    "import pandas as pd\n",
    "import matplotlib.pyplot as plt"
   ]
  },
  {
   "cell_type": "code",
   "execution_count": 2,
   "id": "2b67cfdf-901a-4477-86e5-88262cf078f7",
   "metadata": {},
   "outputs": [],
   "source": [
    "import os\n",
    "os.chdir('../')"
   ]
  },
  {
   "cell_type": "code",
   "execution_count": 3,
   "id": "6514e008-9785-4cf6-9ea4-aca3c6aa77d0",
   "metadata": {},
   "outputs": [],
   "source": [
    "import warnings\n",
    "warnings.filterwarnings(\"ignore\")"
   ]
  },
  {
   "cell_type": "code",
   "execution_count": 4,
   "id": "2454fc15-897a-4fcc-bc46-86970493d33b",
   "metadata": {},
   "outputs": [],
   "source": [
    "data = pd.DataFrame({\"X\":np.random.randint(-100,100,size=(150))})\n",
    "data.at[0,\"X\"]=-.5 \n",
    "data.at[1,\"X\"]=.5 \n",
    "data[\"Y\"] = [-1 if i<0 else 1 for i in data[\"X\"]]\n"
   ]
  },
  {
   "cell_type": "code",
   "execution_count": 5,
   "id": "a7d03f84-0ded-40d3-aa50-3b77656dfe03",
   "metadata": {},
   "outputs": [
    {
     "name": "stdout",
     "output_type": "stream",
     "text": [
      "<class 'pandas.core.frame.DataFrame'>\n",
      "RangeIndex: 150 entries, 0 to 149\n",
      "Data columns (total 2 columns):\n",
      " #   Column  Non-Null Count  Dtype  \n",
      "---  ------  --------------  -----  \n",
      " 0   X       150 non-null    float64\n",
      " 1   Y       150 non-null    int64  \n",
      "dtypes: float64(1), int64(1)\n",
      "memory usage: 2.5 KB\n"
     ]
    }
   ],
   "source": [
    "data.info()"
   ]
  },
  {
   "cell_type": "code",
   "execution_count": 6,
   "id": "bdede8f4-f0c1-4602-8593-b1df022abc0b",
   "metadata": {},
   "outputs": [],
   "source": [
    "X = data[\"X\"].to_numpy()\n",
    "Y = data[\"Y\"].to_numpy()\n",
    "x_train,x_test = X[:100],X[100:]\n",
    "y_train,y_test = Y[:100],Y[100:]"
   ]
  },
  {
   "cell_type": "code",
   "execution_count": 7,
   "id": "faa20cc4-333b-4118-882c-eadfd90aaae0",
   "metadata": {
    "scrolled": true
   },
   "outputs": [
    {
     "name": "stdout",
     "output_type": "stream",
     "text": [
      "2.8453715743182846 1.36999999999996\n",
      "1.0\n"
     ]
    }
   ],
   "source": [
    "lambda_param=0.001\n",
    "lr=0.0001\n",
    "epochs=1000\n",
    "def sgd(X,Y,lr):\n",
    "    n_samples, n_features = 100,1\n",
    "    w = 0\n",
    "    b = 0\n",
    "\n",
    "    for _ in range(epochs):\n",
    "        for idx, x_i in enumerate(X):\n",
    "            if Y[idx] * x_i * w - b >= 3:\n",
    "                w -= lr * (2 * lambda_param * w) \n",
    "            else:\n",
    "                w -= lr * (2* lambda_param * w - x_i*Y[idx])\n",
    "                b -= lr * Y[idx]\n",
    "    return w,b\n",
    "    \n",
    "w,b = sgd(x_train,y_train,0.001)\n",
    "\n",
    "def predict(X):\n",
    "    linear_output = X * w - b\n",
    "    return np.sign(linear_output)\n",
    "\n",
    "def accuracy(Y,y_pred):\n",
    "    return sum(Y==y_pred)/len(Y)\n",
    "    \n",
    "print(w,b)\n",
    "print(accuracy(y_test,predict(x_test)))"
   ]
  },
  {
   "cell_type": "code",
   "execution_count": 8,
   "id": "790282fa-48dd-4ab2-b39e-762f48a7df7e",
   "metadata": {},
   "outputs": [],
   "source": [
    "data = pd.read_csv(\"./datasets/mushrooms.csv\")\n",
    "data = data.sample(frac=1).reset_index(drop=True)\n",
    "x = data.drop([\"class\"],axis=1) #input data\n",
    "y = data[\"class\"] \n",
    "from sklearning.utils.LabelEncoder import LabelEncoder\n",
    "transformed_x = pd.DataFrame()\n",
    "for c in x:\n",
    "    le =  LabelEncoder(1)\n",
    "    transformed_x[c] =  le.fit_transform(x[c])\n",
    "\n",
    "from sklearning.utils.StandardScaler import StandardScaler\n",
    "sc = StandardScaler()\n",
    "scaled_x = sc.transform(transformed_x)\n",
    "\n",
    "X = scaled_x.to_numpy().astype(np.int64)\n",
    "Y = np.array([-1 if i==\"e\" else 1 for i in y]).astype(np.int64)\n",
    "x_train,x_test = X[:120],X[120:]\n",
    "y_train,y_test = Y[:120],Y[120:]\n"
   ]
  },
  {
   "cell_type": "code",
   "execution_count": 9,
   "id": "82e4bf1f-f026-43fa-80ce-c944ea59ecef",
   "metadata": {},
   "outputs": [
    {
     "name": "stdout",
     "output_type": "stream",
     "text": [
      "0.8991754122938531\n"
     ]
    }
   ],
   "source": [
    "lambda_param=0.01\n",
    "lr=0.001\n",
    "epochs=1000\n",
    "def sgd(X,Y,lr):\n",
    "    n_samples, n_features = X.shape\n",
    "    w = np.zeros(n_features)\n",
    "    b = 0\n",
    "\n",
    "    for _ in range(epochs):\n",
    "        for idx, x_i in enumerate(X):\n",
    "            if Y[idx] * (np.dot(x_i, w) - b) >= 1:\n",
    "                w -= lr * (2 * lambda_param * w) \n",
    "            else:\n",
    "                w -= lr * (2* lambda_param * w - np.dot(x_i,Y[idx]))\n",
    "                b -= lr * Y[idx]\n",
    "    return w,b\n",
    "    \n",
    "w,b = sgd(x_train,y_train,0.001)\n",
    "\n",
    "def predict(X):\n",
    "    linear_output = np.dot(X,w) - b\n",
    "    return np.sign(linear_output)\n",
    "\n",
    "def accuracy(Y,y_pred):\n",
    "    return sum(Y==y_pred)/len(Y)\n",
    "    \n",
    "print(accuracy(y_test,predict(x_test)))"
   ]
  },
  {
   "cell_type": "code",
   "execution_count": 10,
   "id": "816b1756-7df1-4a4d-9fb3-bd658be641c5",
   "metadata": {},
   "outputs": [],
   "source": [
    "data = pd.read_csv(\"./datasets/Iris.csv\")\n",
    "data = data.sample(frac=1).reset_index(drop=True)\n",
    "data[\"Species\"] = data[\"Species\"].apply(lambda x: 1 if x==\"Iris-setosa\" else -1)\n",
    "data = data.drop([\"Id\"],axis=1)\n",
    "x = data.drop([\"Species\"],axis=1) #input data\n",
    "y = data[\"Species\"] #ground truth (0 = edible or 1 = poisonous)\n",
    "X = x.to_numpy().astype(np.float64)\n",
    "Y = y.to_numpy().astype(np.float64)\n",
    "\n",
    "x_train,x_test = X[:120],X[120:]\n",
    "y_train,y_test = Y[:120],Y[120:]"
   ]
  },
  {
   "cell_type": "code",
   "execution_count": 11,
   "id": "122fc82c-3adf-4631-b314-374d2c92f1be",
   "metadata": {},
   "outputs": [
    {
     "name": "stdout",
     "output_type": "stream",
     "text": [
      "1.0\n"
     ]
    }
   ],
   "source": [
    "lambda_param=0.01\n",
    "lr=0.001\n",
    "epochs=1000\n",
    "def sgd(X,Y,lr):\n",
    "    n_samples, n_features = X.shape\n",
    "    w = np.zeros(n_features)\n",
    "    b = 0\n",
    "\n",
    "    for _ in range(epochs):\n",
    "        for idx, x_i in enumerate(X):\n",
    "            if Y[idx] * (np.dot(x_i, w) - b) >= 1:\n",
    "                w -= lr * (2 * lambda_param * w) \n",
    "            else:\n",
    "                w -= lr * (2* lambda_param * w - np.dot(x_i,Y[idx]))\n",
    "                b -= lr * Y[idx]\n",
    "    return w,b\n",
    "    \n",
    "w,b = sgd(x_train,y_train,0.001)\n",
    "\n",
    "def predict(X):\n",
    "    linear_output = np.dot(X,w) - b\n",
    "    return np.sign(linear_output)\n",
    "\n",
    "def accuracy(Y,y_pred):\n",
    "    return sum(Y==y_pred)/len(Y)\n",
    "    \n",
    "print(accuracy(y_test,predict(x_test)))"
   ]
  }
 ],
 "metadata": {
  "kernelspec": {
   "display_name": "Python 3 (ipykernel)",
   "language": "python",
   "name": "python3"
  },
  "language_info": {
   "codemirror_mode": {
    "name": "ipython",
    "version": 3
   },
   "file_extension": ".py",
   "mimetype": "text/x-python",
   "name": "python",
   "nbconvert_exporter": "python",
   "pygments_lexer": "ipython3",
   "version": "3.10.12"
  }
 },
 "nbformat": 4,
 "nbformat_minor": 5
}
