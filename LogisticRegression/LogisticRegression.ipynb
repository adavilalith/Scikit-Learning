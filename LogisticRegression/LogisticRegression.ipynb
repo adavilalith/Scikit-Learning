{
 "cells": [
  {
   "cell_type": "code",
   "execution_count": 1,
   "id": "e691672c-7a68-474d-96f0-3ce90c46812d",
   "metadata": {},
   "outputs": [],
   "source": [
    "import numpy as np\n",
    "import pandas as pd\n",
    "import matplotlib.pyplot as plt"
   ]
  },
  {
   "cell_type": "code",
   "execution_count": 2,
   "id": "2b67cfdf-901a-4477-86e5-88262cf078f7",
   "metadata": {},
   "outputs": [],
   "source": [
    "import os\n",
    "os.chdir('../')"
   ]
  },
  {
   "cell_type": "code",
   "execution_count": 3,
   "id": "6514e008-9785-4cf6-9ea4-aca3c6aa77d0",
   "metadata": {},
   "outputs": [],
   "source": [
    "import warnings\n",
    "warnings.filterwarnings(\"ignore\")"
   ]
  },
  {
   "cell_type": "code",
   "execution_count": 4,
   "id": "e4bc0cd0-9583-4608-8665-0bcf4489fb07",
   "metadata": {},
   "outputs": [
    {
     "name": "stdout",
     "output_type": "stream",
     "text": [
      "<class 'pandas.core.frame.DataFrame'>\n",
      "RangeIndex: 150 entries, 0 to 149\n",
      "Data columns (total 5 columns):\n",
      " #   Column         Non-Null Count  Dtype  \n",
      "---  ------         --------------  -----  \n",
      " 0   SepalLengthCm  150 non-null    float64\n",
      " 1   SepalWidthCm   150 non-null    float64\n",
      " 2   PetalLengthCm  150 non-null    float64\n",
      " 3   PetalWidthCm   150 non-null    float64\n",
      " 4   Species        150 non-null    int64  \n",
      "dtypes: float64(4), int64(1)\n",
      "memory usage: 6.0 KB\n"
     ]
    }
   ],
   "source": [
    "data = pd.read_csv(\"./datasets/Iris.csv\")\n",
    "data[\"Species\"] = data[\"Species\"].apply(lambda x: 1 if x==\"Iris-setosa\" else 0)\n",
    "data = data.drop([\"Id\"],axis=1)\n",
    "data = data.sample(frac=1).reset_index(drop=True)\n",
    "data.info()"
   ]
  },
  {
   "cell_type": "code",
   "execution_count": 5,
   "id": "a7ca09d9-7ca6-41d0-9918-18c0237185bd",
   "metadata": {},
   "outputs": [],
   "source": [
    "x = data.drop([\"Species\"],axis=1) #input data\n",
    "y = data[\"Species\"] #ground truth\n",
    "X = x.to_numpy().astype(np.float64)\n",
    "Y = y.to_numpy().astype(np.float64)"
   ]
  },
  {
   "cell_type": "code",
   "execution_count": 6,
   "id": "6e4e7f98-5fe3-454b-987a-8de2e92e9a90",
   "metadata": {},
   "outputs": [],
   "source": [
    "x_train,x_test = X[:100],X[100:]\n",
    "y_train,y_test = Y[:100],Y[100:]"
   ]
  },
  {
   "cell_type": "markdown",
   "id": "46e51756-49f2-48d1-9abd-f0443a003120",
   "metadata": {},
   "source": [
    "Sigmoid Function\n",
    "$$\n",
    "\\sigma = \\frac{1}{1 + e^{-z}}\n",
    "$$\n",
    "$$\n",
    "\\hat{y} = \\frac{1}{1 + e^{-(m*x+c)}}\n",
    "$$\n",
    "Binary Cross Entropy (cost function)\n",
    "$$\n",
    "\\hat{y} = - \\sum \\left( y \\log(\\hat{y}) + (1 - y) \\log(1 - \\hat{y}) \\right)\n",
    "$$\n",
    "partial derivative of cost function\n",
    "$$\n",
    "\\frac{\\partial \\hat{y}}{\\partial \\mathbf{w}} = - \\sum   \\frac{y}{\\hat{y}} \\frac{\\partial \\hat{y}}{\\partial \\mathbf{w}} - \\frac{1 - y}{1 - \\hat{y}} \\frac{\\partial \\hat{y}}{\\partial \\mathbf{w}}\n",
    "$$\n",
    "deravative of sigmoid function\n",
    "$$\n",
    "\\frac{\\partial \\sigma}{\\partial \\mathbf{Z}} = - \\sum   {y}{\\left( 1 - \\hat y \\right)} -{\\left( 1 - y \\right)\\hat y}\n",
    "$$"
   ]
  },
  {
   "cell_type": "code",
   "execution_count": 7,
   "id": "faa20cc4-333b-4118-882c-eadfd90aaae0",
   "metadata": {
    "scrolled": true
   },
   "outputs": [
    {
     "name": "stdout",
     "output_type": "stream",
     "text": [
      "[ 0.15943215  2.09097499 -2.9172241  -0.64268761]\n"
     ]
    }
   ],
   "source": [
    "def sigmoid(z):\n",
    "    return 1 / (1 + np.exp(-z))\n",
    "def predict(w,b,X):\n",
    "    z=0\n",
    "    for i in range(X.shape[1]):\n",
    "        z += w[i] * X[:,i]\n",
    "    z = np.array(b+z)\n",
    "    # print(z)\n",
    "    return sigmoid(z)\n",
    "def cost_function(w,b,X,Y):\n",
    "    y_pred = predict(w,b,X)\n",
    "    print(min(y_pred),max(y_pred))\n",
    "    # print(y_pred)\n",
    "    return -1 * sum(Y*np.log(y_pred) + (1-Y)*np.log((1-y_pred)))\n",
    "def gradient(w,b,X,Y):\n",
    "    y_pred = predict(w,b,X)\n",
    "    # print(y_pred)\n",
    "    new_b = -1 * sum(Y*(1-y_pred) - (1-Y)*y_pred)\n",
    "    new_w = np.zeros(w.shape[0])\n",
    "    for i in range(w.shape[0]):\n",
    "        new_w[i] = -1 * sum(Y*(1-y_pred)*X[:,i] - (1-Y)*y_pred*X[:,i])\n",
    "    return new_w,new_b\n",
    "epochs=1000\n",
    "def descent(w,b,X,Y,lr):\n",
    "    for i in range(epochs):\n",
    "        # print(i,b)\n",
    "        \n",
    "        new_w,new_b = gradient(w,b,X,Y)\n",
    "        b = b - lr * new_b\n",
    "        w = w - lr * new_w\n",
    "        # print(b,w)\n",
    "        # print(\"#cost\",i,cost_function(w,b,X,Y))\n",
    "    return w,b\n",
    "w = np.ones(X.shape[1])\n",
    "b=1\n",
    "new_w,new_b = descent(w,b,x_train,y_train,0.001)\n",
    "print(new_w)"
   ]
  },
  {
   "cell_type": "code",
   "execution_count": 8,
   "id": "63abe9fe-8c16-483f-842d-e80f8f874cbf",
   "metadata": {},
   "outputs": [],
   "source": [
    "def calc(X):\n",
    "    temp =  np.dot(X,new_w)+new_b\n",
    "    return [1 if i>=0.5 else 0 for i in temp]"
   ]
  },
  {
   "cell_type": "code",
   "execution_count": 9,
   "id": "f83e0ba9-e8fb-40a3-ad81-db91adaae796",
   "metadata": {
    "scrolled": true
   },
   "outputs": [],
   "source": [
    "def accuracy(Y,y_pred):\n",
    "    return sum(Y==y_pred)/len(Y)"
   ]
  },
  {
   "cell_type": "code",
   "execution_count": 10,
   "id": "5b01aa0f-005d-4cf7-9598-90fd374b3834",
   "metadata": {},
   "outputs": [
    {
     "name": "stdout",
     "output_type": "stream",
     "text": [
      "1.0\n"
     ]
    }
   ],
   "source": [
    "print(accuracy(y_test,calc(x_test)))"
   ]
  },
  {
   "cell_type": "code",
   "execution_count": 14,
   "id": "790282fa-48dd-4ab2-b39e-762f48a7df7e",
   "metadata": {},
   "outputs": [
    {
     "data": {
      "text/html": [
       "<div>\n",
       "<style scoped>\n",
       "    .dataframe tbody tr th:only-of-type {\n",
       "        vertical-align: middle;\n",
       "    }\n",
       "\n",
       "    .dataframe tbody tr th {\n",
       "        vertical-align: top;\n",
       "    }\n",
       "\n",
       "    .dataframe thead th {\n",
       "        text-align: right;\n",
       "    }\n",
       "</style>\n",
       "<table border=\"1\" class=\"dataframe\">\n",
       "  <thead>\n",
       "    <tr style=\"text-align: right;\">\n",
       "      <th></th>\n",
       "      <th>class</th>\n",
       "      <th>cap-shape</th>\n",
       "      <th>cap-surface</th>\n",
       "      <th>cap-color</th>\n",
       "      <th>bruises</th>\n",
       "      <th>odor</th>\n",
       "      <th>gill-attachment</th>\n",
       "      <th>gill-spacing</th>\n",
       "      <th>gill-size</th>\n",
       "      <th>gill-color</th>\n",
       "      <th>...</th>\n",
       "      <th>stalk-surface-below-ring</th>\n",
       "      <th>stalk-color-above-ring</th>\n",
       "      <th>stalk-color-below-ring</th>\n",
       "      <th>veil-type</th>\n",
       "      <th>veil-color</th>\n",
       "      <th>ring-number</th>\n",
       "      <th>ring-type</th>\n",
       "      <th>spore-print-color</th>\n",
       "      <th>population</th>\n",
       "      <th>habitat</th>\n",
       "    </tr>\n",
       "  </thead>\n",
       "  <tbody>\n",
       "    <tr>\n",
       "      <th>0</th>\n",
       "      <td>p</td>\n",
       "      <td>x</td>\n",
       "      <td>s</td>\n",
       "      <td>b</td>\n",
       "      <td>t</td>\n",
       "      <td>f</td>\n",
       "      <td>f</td>\n",
       "      <td>c</td>\n",
       "      <td>b</td>\n",
       "      <td>h</td>\n",
       "      <td>...</td>\n",
       "      <td>f</td>\n",
       "      <td>w</td>\n",
       "      <td>w</td>\n",
       "      <td>p</td>\n",
       "      <td>w</td>\n",
       "      <td>o</td>\n",
       "      <td>p</td>\n",
       "      <td>h</td>\n",
       "      <td>v</td>\n",
       "      <td>u</td>\n",
       "    </tr>\n",
       "    <tr>\n",
       "      <th>1</th>\n",
       "      <td>e</td>\n",
       "      <td>f</td>\n",
       "      <td>y</td>\n",
       "      <td>g</td>\n",
       "      <td>t</td>\n",
       "      <td>n</td>\n",
       "      <td>f</td>\n",
       "      <td>c</td>\n",
       "      <td>b</td>\n",
       "      <td>w</td>\n",
       "      <td>...</td>\n",
       "      <td>s</td>\n",
       "      <td>g</td>\n",
       "      <td>p</td>\n",
       "      <td>p</td>\n",
       "      <td>w</td>\n",
       "      <td>o</td>\n",
       "      <td>p</td>\n",
       "      <td>k</td>\n",
       "      <td>v</td>\n",
       "      <td>d</td>\n",
       "    </tr>\n",
       "    <tr>\n",
       "      <th>2</th>\n",
       "      <td>p</td>\n",
       "      <td>x</td>\n",
       "      <td>y</td>\n",
       "      <td>g</td>\n",
       "      <td>f</td>\n",
       "      <td>f</td>\n",
       "      <td>f</td>\n",
       "      <td>c</td>\n",
       "      <td>b</td>\n",
       "      <td>h</td>\n",
       "      <td>...</td>\n",
       "      <td>k</td>\n",
       "      <td>p</td>\n",
       "      <td>p</td>\n",
       "      <td>p</td>\n",
       "      <td>w</td>\n",
       "      <td>o</td>\n",
       "      <td>l</td>\n",
       "      <td>h</td>\n",
       "      <td>v</td>\n",
       "      <td>g</td>\n",
       "    </tr>\n",
       "    <tr>\n",
       "      <th>3</th>\n",
       "      <td>p</td>\n",
       "      <td>x</td>\n",
       "      <td>y</td>\n",
       "      <td>n</td>\n",
       "      <td>t</td>\n",
       "      <td>p</td>\n",
       "      <td>f</td>\n",
       "      <td>c</td>\n",
       "      <td>n</td>\n",
       "      <td>w</td>\n",
       "      <td>...</td>\n",
       "      <td>s</td>\n",
       "      <td>w</td>\n",
       "      <td>w</td>\n",
       "      <td>p</td>\n",
       "      <td>w</td>\n",
       "      <td>o</td>\n",
       "      <td>p</td>\n",
       "      <td>k</td>\n",
       "      <td>s</td>\n",
       "      <td>g</td>\n",
       "    </tr>\n",
       "    <tr>\n",
       "      <th>4</th>\n",
       "      <td>e</td>\n",
       "      <td>f</td>\n",
       "      <td>y</td>\n",
       "      <td>n</td>\n",
       "      <td>t</td>\n",
       "      <td>n</td>\n",
       "      <td>f</td>\n",
       "      <td>c</td>\n",
       "      <td>b</td>\n",
       "      <td>n</td>\n",
       "      <td>...</td>\n",
       "      <td>s</td>\n",
       "      <td>w</td>\n",
       "      <td>g</td>\n",
       "      <td>p</td>\n",
       "      <td>w</td>\n",
       "      <td>o</td>\n",
       "      <td>p</td>\n",
       "      <td>k</td>\n",
       "      <td>y</td>\n",
       "      <td>d</td>\n",
       "    </tr>\n",
       "  </tbody>\n",
       "</table>\n",
       "<p>5 rows × 23 columns</p>\n",
       "</div>"
      ],
      "text/plain": [
       "  class cap-shape cap-surface cap-color bruises odor gill-attachment  \\\n",
       "0     p         x           s         b       t    f               f   \n",
       "1     e         f           y         g       t    n               f   \n",
       "2     p         x           y         g       f    f               f   \n",
       "3     p         x           y         n       t    p               f   \n",
       "4     e         f           y         n       t    n               f   \n",
       "\n",
       "  gill-spacing gill-size gill-color  ... stalk-surface-below-ring  \\\n",
       "0            c         b          h  ...                        f   \n",
       "1            c         b          w  ...                        s   \n",
       "2            c         b          h  ...                        k   \n",
       "3            c         n          w  ...                        s   \n",
       "4            c         b          n  ...                        s   \n",
       "\n",
       "  stalk-color-above-ring stalk-color-below-ring veil-type veil-color  \\\n",
       "0                      w                      w         p          w   \n",
       "1                      g                      p         p          w   \n",
       "2                      p                      p         p          w   \n",
       "3                      w                      w         p          w   \n",
       "4                      w                      g         p          w   \n",
       "\n",
       "  ring-number ring-type spore-print-color population habitat  \n",
       "0           o         p                 h          v       u  \n",
       "1           o         p                 k          v       d  \n",
       "2           o         l                 h          v       g  \n",
       "3           o         p                 k          s       g  \n",
       "4           o         p                 k          y       d  \n",
       "\n",
       "[5 rows x 23 columns]"
      ]
     },
     "execution_count": 14,
     "metadata": {},
     "output_type": "execute_result"
    }
   ],
   "source": [
    "data = pd.read_csv(\"./datasets/mushrooms.csv\")\n",
    "data = data.sample(frac=1).reset_index(drop=True)\n",
    "x = data.drop([\"class\"],axis=1) #input data\n",
    "y = data[\"class\"] #ground truth (0 = edible or 1 = poisonous)\n",
    "\n",
    "from utils.LabelEncoder import LabelEncoder\n",
    "transformed_x = pd.DataFrame()\n",
    "for c in x:\n",
    "    le =  LabelEncoder(1)\n",
    "    transformed_x[c] =  le.fit_transform(x[c])\n",
    "\n",
    "from utils.StandardScaler import StandardScaler\n",
    "sc = StandardScaler()\n",
    "scaled_x = sc.transform(transformed_x)\n",
    "\n",
    "X = scaled_x.to_numpy().astype(np.int64)\n",
    "Y = np.array([0 if i==\"e\" else 1 for i in y]).astype(np.int64)\n",
    "data.head()"
   ]
  },
  {
   "cell_type": "code",
   "execution_count": 15,
   "id": "e1960f66-98fc-417f-83c8-a476a22f1e22",
   "metadata": {},
   "outputs": [],
   "source": [
    "x_train,x_test = X[:7500],X[7500:]\n",
    "y_train,y_test = Y[:7500],Y[7500:]"
   ]
  },
  {
   "cell_type": "code",
   "execution_count": 18,
   "id": "82e4bf1f-f026-43fa-80ce-c944ea59ecef",
   "metadata": {},
   "outputs": [
    {
     "name": "stdout",
     "output_type": "stream",
     "text": [
      "[-0.50275466 -2.68090689  0.0129549   3.99942259  6.51805656 -1.42759955\n",
      " -4.36745057  2.13190452 -0.21262614  0.4013152  -9.02805745 -0.73660097\n",
      "  2.30824018  0.59018218  0.35957306  1.00631193  0.31285599  0.32717619\n",
      " -1.13868977 -0.24931883 -1.4873855  -0.24485226]\n",
      "0.9342948717948718\n"
     ]
    }
   ],
   "source": [
    "w = np.zeros(X.shape[1])\n",
    "b=0\n",
    "new_w,new_b = descent(w,b,x_train,y_train,0.001)\n",
    "print(new_w)\n",
    "print(accuracy(y_test,calc(x_test)))"
   ]
  }
 ],
 "metadata": {
  "kernelspec": {
   "display_name": "Python 3 (ipykernel)",
   "language": "python",
   "name": "python3"
  },
  "language_info": {
   "codemirror_mode": {
    "name": "ipython",
    "version": 3
   },
   "file_extension": ".py",
   "mimetype": "text/x-python",
   "name": "python",
   "nbconvert_exporter": "python",
   "pygments_lexer": "ipython3",
   "version": "3.10.12"
  }
 },
 "nbformat": 4,
 "nbformat_minor": 5
}
