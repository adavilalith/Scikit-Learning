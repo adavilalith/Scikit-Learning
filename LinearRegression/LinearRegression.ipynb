{
 "cells": [
  {
   "cell_type": "code",
   "execution_count": 1,
   "id": "2e086f34-25e4-4bb8-bb9c-a9f083c535d1",
   "metadata": {},
   "outputs": [],
   "source": [
    "import numpy as np\n",
    "import pandas as pd"
   ]
  },
  {
   "cell_type": "code",
   "execution_count": 2,
   "id": "d5f0e9be-e37b-4ddd-b185-3242bd4730eb",
   "metadata": {},
   "outputs": [],
   "source": [
    "import os\n",
    "os.chdir(\"../\")"
   ]
  },
  {
   "cell_type": "code",
   "execution_count": 3,
   "id": "01070b1a-0908-4c41-af0c-433ee4bbf63d",
   "metadata": {},
   "outputs": [
    {
     "name": "stdout",
     "output_type": "stream",
     "text": [
      "<class 'pandas.core.frame.DataFrame'>\n",
      "RangeIndex: 4340 entries, 0 to 4339\n",
      "Data columns (total 8 columns):\n",
      " #   Column         Non-Null Count  Dtype \n",
      "---  ------         --------------  ----- \n",
      " 0   name           4340 non-null   object\n",
      " 1   year           4340 non-null   int64 \n",
      " 2   selling_price  4340 non-null   int64 \n",
      " 3   km_driven      4340 non-null   int64 \n",
      " 4   fuel           4340 non-null   object\n",
      " 5   seller_type    4340 non-null   object\n",
      " 6   transmission   4340 non-null   object\n",
      " 7   owner          4340 non-null   object\n",
      "dtypes: int64(3), object(5)\n",
      "memory usage: 271.4+ KB\n"
     ]
    }
   ],
   "source": [
    "data = pd.read_csv(\"./datasets/CAR DETAILS FROM CAR DEKHO.xls\")\n",
    "data.info()"
   ]
  },
  {
   "cell_type": "code",
   "execution_count": 4,
   "id": "690dcd61-dd14-4671-8dbc-c25363ebdc65",
   "metadata": {},
   "outputs": [],
   "source": [
    "from utils.LabelEncoder import LabelEncoder\n",
    "le = LabelEncoder()\n",
    "data[\"label_encoded_transmission\"] = le.fit_transform(data[\"transmission\"]).astype(np.int32)\n",
    "data[\"label_encoded_fuel\"] = le.fit_transform(data[\"fuel\"]).astype(np.int32)\n",
    "data[\"label_encoded_seller_type\"] = le.fit_transform(data[\"seller_type\"]).astype(np.int32)\n",
    "data[\"label_encoded_owner\"] = le.fit_transform(data[\"owner\"]).astype(np.int32)\n",
    "from utils.StandardScaler import StandardScaler\n",
    "data = data.drop([\"fuel\",\"seller_type\",\"owner\",\"transmission\",\"name\"],axis=1)\n",
    "sc = StandardScaler()\n",
    "data = sc.transform(data)\n",
    "\n",
    "x = data.drop([\"selling_price\"],axis=1)\n",
    "y = data[\"selling_price\"]\n",
    "X = x.to_numpy()\n",
    "Y = y.to_numpy()"
   ]
  },
  {
   "cell_type": "code",
   "execution_count": 5,
   "id": "c273c11d-a31e-4f00-822d-f1ac87a2df61",
   "metadata": {},
   "outputs": [],
   "source": [
    "x_train,x_test = X[:3000],X[3000:]\n",
    "y_train,y_test = Y[:3000],Y[3000:]"
   ]
  },
  {
   "cell_type": "markdown",
   "id": "91062160-ef45-47ea-b649-d4d194e55a87",
   "metadata": {},
   "source": [
    "Mean Squared Error\n",
    "$$\n",
    "\\text{MSE} = \\frac{1}{n} \\sum_{i=1}^{n} (y_i - (mx_i + b))^2\n",
    "$$\n",
    "Partial derivative of MSE with respect to b :\n",
    "$$\n",
    "\\frac{\\partial}{\\partial b} \\text{MSE} = \\frac{2}{n} \\sum_{i=1}^{n} x_i \\left( y_i - (m x_i + b)\\right)\n",
    "$$\n",
    "Partial derivative of MSE with respect to  m :\n",
    "$$\n",
    "\\frac{\\partial}{\\partial m} \\text{MSE} = \\frac{-2}{n} \\sum_{i=1}^{n} \\left( y_i - (mx_i + b)\\right)\n",
    "$$"
   ]
  },
  {
   "cell_type": "code",
   "execution_count": 15,
   "id": "515e3571-45c9-45f6-92b7-beb403474980",
   "metadata": {},
   "outputs": [
    {
     "name": "stdout",
     "output_type": "stream",
     "text": [
      "[-0.86948592  0.42244089 -1.1809813  -0.49026128 -0.55186548  0.38671804] -0.03910975932993365\n",
      "[-0.86917955  0.42223391 -1.18065661 -0.49016791 -0.55162098  0.38650954] -0.039090342404404455\n",
      "[-0.8688733   0.42202702 -1.18033201 -0.49007455 -0.55137657  0.38630113] -0.039070934001113236\n",
      "[-0.86856716  0.42182022 -1.18000751 -0.4899812  -0.55113227  0.38609281] -0.0390515341165098\n",
      "[-0.86826114  0.42161352 -1.17968311 -0.48988786 -0.55088806  0.38588458] -0.03903214274704552\n",
      "[-0.86795524  0.42140691 -1.17935881 -0.48979454 -0.55064395  0.38567645] -0.03901275988917325\n",
      "[-0.86764945  0.42120039 -1.17903461 -0.48970123 -0.55039995  0.38546841] -0.03899338553934712\n",
      "[-0.86734378  0.42099397 -1.17871051 -0.48960794 -0.55015604  0.38526045] -0.03897401969402286\n",
      "[-0.86703822  0.42078764 -1.17838651 -0.48951465 -0.54991223  0.3850526 ] -0.038954662349657554\n",
      "[-0.86673278  0.42058139 -1.17806261 -0.48942138 -0.54966851  0.38484483] -0.03893531350270978\n",
      "[-0.86642746  0.42037525 -1.17773881 -0.48932813 -0.5494249   0.38463715] -0.03891597314963952\n",
      "[-0.86612225  0.42016919 -1.1774151  -0.48923488 -0.54918138  0.38442957] -0.03889664128690821\n",
      "[-0.86581716  0.41996322 -1.1770915  -0.48914165 -0.54893797  0.38422208] -0.03887731791097872\n",
      "[-0.86551218  0.41975735 -1.17676799 -0.48904843 -0.54869465  0.38401468] -0.03885800301831538\n",
      "[-0.86520732  0.41955157 -1.17644458 -0.48895523 -0.54845143  0.38380737] -0.038838696605383936\n",
      "[-0.86490258  0.41934588 -1.17612128 -0.48886203 -0.54820831  0.38360016] -0.038819398668651625\n",
      "[-0.86459795  0.41914028 -1.17579807 -0.48876886 -0.54796529  0.38339303] -0.03880010920458694\n",
      "[-0.86429344  0.41893478 -1.17547496 -0.48867569 -0.54772236  0.383186  ] -0.03878082820966008\n",
      "[-0.86398904  0.41872936 -1.17515194 -0.48858254 -0.54747954  0.38297906] -0.03876155568034246\n",
      "[-0.86368476  0.41852404 -1.17482903 -0.4884894  -0.54723681  0.38277221] -0.03874229161310706\n"
     ]
    }
   ],
   "source": [
    "def fit(x,y,lr):\n",
    "    w = np.zeros(x.shape[1])\n",
    "    b = 0\n",
    "    for i in range(20):\n",
    "        # print(w)\n",
    "        y_pred = np.dot(x,w) + b\n",
    "        db = 2/x.shape[0] * np.sum(y_pred-y)\n",
    "        dw = 2/x.shape[0] * np.dot((y_pred-y),x)\n",
    "        print(dw,db)\n",
    "        b = b - lr * db\n",
    "        w = w - lr * dw\n",
    "    return w,b\n",
    "w,b = fit(x_train,y_train,0.0001)\n",
    "# w,b = fit(X,Y,0.001)"
   ]
  },
  {
   "cell_type": "code",
   "execution_count": 18,
   "id": "7009f4c3-54b8-4d8c-9e11-761ffb6be705",
   "metadata": {},
   "outputs": [],
   "source": [
    "def predict(x):\n",
    "    return np.dot(x,w) + b\n",
    "pred = predict(x_test)"
   ]
  },
  {
   "cell_type": "code",
   "execution_count": 19,
   "id": "90306816-61b4-4bd1-96e7-ae9cb48f05f3",
   "metadata": {},
   "outputs": [
    {
     "name": "stdout",
     "output_type": "stream",
     "text": [
      "[-0.43924962 -0.7330883   0.64103967 ... -0.68123442  0.62375504\n",
      " -0.48246119]\n",
      "[-0.00261736 -0.00480287  0.00136709 ... -0.00468967  0.00072888\n",
      " -0.00015043]\n",
      "0.8205990784821707\n"
     ]
    }
   ],
   "source": [
    "def mse(y,pred):\n",
    "    print(y)\n",
    "    print(pred)\n",
    "    return np.mean((pred - y)**2)\n",
    "print(mse(y_test,pred))"
   ]
  }
 ],
 "metadata": {
  "kernelspec": {
   "display_name": "Python 3 (ipykernel)",
   "language": "python",
   "name": "python3"
  },
  "language_info": {
   "codemirror_mode": {
    "name": "ipython",
    "version": 3
   },
   "file_extension": ".py",
   "mimetype": "text/x-python",
   "name": "python",
   "nbconvert_exporter": "python",
   "pygments_lexer": "ipython3",
   "version": "3.10.12"
  }
 },
 "nbformat": 4,
 "nbformat_minor": 5
}
